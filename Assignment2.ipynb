{
 "cells": [
  {
   "cell_type": "markdown",
   "metadata": {
    "collapsed": true,
    "pycharm": {
     "name": "#%% md\n"
    }
   },
   "source": [
    "# Requirements\n",
    "\n",
    "For Assignment 2, you will perform a short pilot study that identifies a cultural pattern related to your final project.\n",
    "Your submission should be in a Jupyter notebook format and address the following questions.\n",
    "\n",
    "1. (1 Point) Construct a final project research question related to the interpretation of a cultural pattern that \n",
    "interests you (i.e. \"Why is #ThrowbackThursday employed in a different way by Group A than it is by Group B?\").\n",
    "\n",
    "2. (2 Points) What digital data could you use to study this phenomenon and answer your research question? \n",
    "How could you collect this data? Consult the Final Project Assignment Page for several data search tools and feel free\n",
    "to talk with your instructor or TA if you have any further questions about how you might find and collect data related\n",
    "to your research question.\n",
    "\n",
    "3. (3 Points) Download this data on your computer (if you are web-scraping, or have an exceptionally challenging data\n",
    "source to gather from and analyze, you may choose to download only a subset of the data for the purposes of this \n",
    "assignment) and load it into your Python Jupyter notebook. Print out a small sample of your data in your Jupyter \n",
    "notebook (i.e. using the .head() command, if you're using Pandas).\n",
    "\n",
    "4. (6 Points) Using your data, empirically demonstrate in Python that the cultural phenomenon you are studying consists \n",
    "of replicas from a common legisign, with the same interpretants and sign relations. Make at least 1 plot to aid in your\n",
    "demonstration.\n",
    "\n",
    "5. Provide a 300+ word description explaining why your Python code and plot successfully demonstrate that the cultural\n",
    "phenomenon you are studying consists of replicas from a common legisign. (3 Points) What are your next steps beyond \n",
    "this basic identification of a cultural pattern? Do you need to gather any additional information? Do you need to \n",
    "perform any additional analyses in order to successfully answer your research question? How will these additional \n",
    "sources and/or analyses enable you to answer your research question? Provide a 200+ word response to these questions."
   ]
  },
  {
   "cell_type": "markdown",
   "source": [
    "# Research Question\n",
    "\n",
    "Do the Chinese people have a greater tolerance of inequality than the Americans? If so, what factors contribute to this\n",
    "cultural phenomenon?"
   ],
   "metadata": {
    "collapsed": false,
    "pycharm": {
     "name": "#%% md\n",
     "is_executing": true
    }
   }
  },
  {
   "cell_type": "markdown",
   "source": [
    "# Data Source\n",
    "\n",
    "The [Worlds Value Survey](www.worldvaluessurvey.org), which started in 1981, consists of nationally representative \n",
    "surveys conducted in almost 100 countries which contain almost 90 percent of the world’s population, using a common \n",
    "questionnaire. It is the largest non-commercial, cross-national, time series investigation of human beliefs and values \n",
    "ever executed, currently including interviews with almost 400,000 respondents and covering all of the world's major \n",
    "cultural zones.\n",
    "\n",
    "Data used in this project is from WVS Wave 6 (2010-2014). For the purpose of a comparison between China and the United State, \n",
    "I selected Mainland China, Hong Kong, Taiwan and the United States for analysis. Raw data files are stored in this \n",
    "[folder](Data_raw)."
   ],
   "metadata": {
    "collapsed": false,
    "pycharm": {
     "name": "#%% md\n"
    }
   }
  },
  {
   "cell_type": "markdown",
   "source": [
    "# Data"
   ],
   "metadata": {
    "collapsed": false,
    "pycharm": {
     "name": "#%% md\n"
    }
   }
  },
  {
   "cell_type": "code",
   "execution_count": 1,
   "outputs": [],
   "source": [
    "# Import libraries\n",
    "%matplotlib inline\n",
    "import numpy as np\n",
    "import pandas as pd\n",
    "import plotly.graph_objects as go\n",
    "import matplotlib.pyplot as plt"
   ],
   "metadata": {
    "collapsed": false,
    "pycharm": {
     "name": "#%%\n",
     "is_executing": false
    }
   }
  },
  {
   "cell_type": "code",
   "execution_count": 2,
   "outputs": [
    {
     "data": {
      "text/plain": "     CountryRegion  Family  Friends  Leisure  Politics  Work  Religion  \\\n0            China       1        2        2         2     2         3   \n1            China       1        2        2         3     3         3   \n2            China       2        2        1         2     1         2   \n3            China       1        1        2         2     1         2   \n4            China       2        2        2         2     3         2   \n...            ...     ...      ...      ...       ...   ...       ...   \n2227            US       1        2        2         4     1         3   \n2228            US       1        2        2         4     1         1   \n2229            US       1        1        1         4     2         1   \n2230            US       4        4        4         4     4         4   \n2231            US       1        1        1         1     2         1   \n\n      Happiness  Health  Satisfaction  ...  Confidence_govern  \\\n0             2       3             7  ...                  2   \n1             2       3             8  ...                  1   \n2             1       2             9  ...                  2   \n3             1       1             8  ...                  2   \n4             2       2             7  ...                 -1   \n...         ...     ...           ...  ...                ...   \n2227          1       2             9  ...                  3   \n2228          2       2             6  ...                  3   \n2229          1       1            10  ...                  1   \n2230          4       4             1  ...                  3   \n2231          1       1            10  ...                  1   \n\n      Confidence_parties  Democracy_state_income_equal  Democracy_importance  \\\n0                      3                             8                     8   \n1                      3                             9                     9   \n2                      2                             7                     9   \n3                      2                             8                     8   \n4                      3                             9                     7   \n...                  ...                           ...                   ...   \n2227                   4                             1                    10   \n2228                   3                             4                     5   \n2229                   1                             2                    10   \n2230                   3                             1                     1   \n2231                   1                             9                    10   \n\n      Democracy_reality Human_rights Social_class Income_scale Sex Age  \n0                     7            2            4            7   1  52  \n1                     8            1            4            6   2  58  \n2                     8            2            3            7   1  34  \n3                     8            1            3            7   2  48  \n4                    -1            2            4            8   2  58  \n...                 ...          ...          ...          ...  ..  ..  \n2227                  5            3            2            8   2  54  \n2228                  5            1            4            5   2  23  \n2229                 10            1            3            6   1  52  \n2230                  1            4            5            1   1  40  \n2231                 10            1            4            8   1  29  \n\n[6770 rows x 50 columns]",
      "text/html": "<div>\n<style scoped>\n    .dataframe tbody tr th:only-of-type {\n        vertical-align: middle;\n    }\n\n    .dataframe tbody tr th {\n        vertical-align: top;\n    }\n\n    .dataframe thead th {\n        text-align: right;\n    }\n</style>\n<table border=\"1\" class=\"dataframe\">\n  <thead>\n    <tr style=\"text-align: right;\">\n      <th></th>\n      <th>CountryRegion</th>\n      <th>Family</th>\n      <th>Friends</th>\n      <th>Leisure</th>\n      <th>Politics</th>\n      <th>Work</th>\n      <th>Religion</th>\n      <th>Happiness</th>\n      <th>Health</th>\n      <th>Satisfaction</th>\n      <th>...</th>\n      <th>Confidence_govern</th>\n      <th>Confidence_parties</th>\n      <th>Democracy_state_income_equal</th>\n      <th>Democracy_importance</th>\n      <th>Democracy_reality</th>\n      <th>Human_rights</th>\n      <th>Social_class</th>\n      <th>Income_scale</th>\n      <th>Sex</th>\n      <th>Age</th>\n    </tr>\n  </thead>\n  <tbody>\n    <tr>\n      <th>0</th>\n      <td>China</td>\n      <td>1</td>\n      <td>2</td>\n      <td>2</td>\n      <td>2</td>\n      <td>2</td>\n      <td>3</td>\n      <td>2</td>\n      <td>3</td>\n      <td>7</td>\n      <td>...</td>\n      <td>2</td>\n      <td>3</td>\n      <td>8</td>\n      <td>8</td>\n      <td>7</td>\n      <td>2</td>\n      <td>4</td>\n      <td>7</td>\n      <td>1</td>\n      <td>52</td>\n    </tr>\n    <tr>\n      <th>1</th>\n      <td>China</td>\n      <td>1</td>\n      <td>2</td>\n      <td>2</td>\n      <td>3</td>\n      <td>3</td>\n      <td>3</td>\n      <td>2</td>\n      <td>3</td>\n      <td>8</td>\n      <td>...</td>\n      <td>1</td>\n      <td>3</td>\n      <td>9</td>\n      <td>9</td>\n      <td>8</td>\n      <td>1</td>\n      <td>4</td>\n      <td>6</td>\n      <td>2</td>\n      <td>58</td>\n    </tr>\n    <tr>\n      <th>2</th>\n      <td>China</td>\n      <td>2</td>\n      <td>2</td>\n      <td>1</td>\n      <td>2</td>\n      <td>1</td>\n      <td>2</td>\n      <td>1</td>\n      <td>2</td>\n      <td>9</td>\n      <td>...</td>\n      <td>2</td>\n      <td>2</td>\n      <td>7</td>\n      <td>9</td>\n      <td>8</td>\n      <td>2</td>\n      <td>3</td>\n      <td>7</td>\n      <td>1</td>\n      <td>34</td>\n    </tr>\n    <tr>\n      <th>3</th>\n      <td>China</td>\n      <td>1</td>\n      <td>1</td>\n      <td>2</td>\n      <td>2</td>\n      <td>1</td>\n      <td>2</td>\n      <td>1</td>\n      <td>1</td>\n      <td>8</td>\n      <td>...</td>\n      <td>2</td>\n      <td>2</td>\n      <td>8</td>\n      <td>8</td>\n      <td>8</td>\n      <td>1</td>\n      <td>3</td>\n      <td>7</td>\n      <td>2</td>\n      <td>48</td>\n    </tr>\n    <tr>\n      <th>4</th>\n      <td>China</td>\n      <td>2</td>\n      <td>2</td>\n      <td>2</td>\n      <td>2</td>\n      <td>3</td>\n      <td>2</td>\n      <td>2</td>\n      <td>2</td>\n      <td>7</td>\n      <td>...</td>\n      <td>-1</td>\n      <td>3</td>\n      <td>9</td>\n      <td>7</td>\n      <td>-1</td>\n      <td>2</td>\n      <td>4</td>\n      <td>8</td>\n      <td>2</td>\n      <td>58</td>\n    </tr>\n    <tr>\n      <th>...</th>\n      <td>...</td>\n      <td>...</td>\n      <td>...</td>\n      <td>...</td>\n      <td>...</td>\n      <td>...</td>\n      <td>...</td>\n      <td>...</td>\n      <td>...</td>\n      <td>...</td>\n      <td>...</td>\n      <td>...</td>\n      <td>...</td>\n      <td>...</td>\n      <td>...</td>\n      <td>...</td>\n      <td>...</td>\n      <td>...</td>\n      <td>...</td>\n      <td>...</td>\n      <td>...</td>\n    </tr>\n    <tr>\n      <th>2227</th>\n      <td>US</td>\n      <td>1</td>\n      <td>2</td>\n      <td>2</td>\n      <td>4</td>\n      <td>1</td>\n      <td>3</td>\n      <td>1</td>\n      <td>2</td>\n      <td>9</td>\n      <td>...</td>\n      <td>3</td>\n      <td>4</td>\n      <td>1</td>\n      <td>10</td>\n      <td>5</td>\n      <td>3</td>\n      <td>2</td>\n      <td>8</td>\n      <td>2</td>\n      <td>54</td>\n    </tr>\n    <tr>\n      <th>2228</th>\n      <td>US</td>\n      <td>1</td>\n      <td>2</td>\n      <td>2</td>\n      <td>4</td>\n      <td>1</td>\n      <td>1</td>\n      <td>2</td>\n      <td>2</td>\n      <td>6</td>\n      <td>...</td>\n      <td>3</td>\n      <td>3</td>\n      <td>4</td>\n      <td>5</td>\n      <td>5</td>\n      <td>1</td>\n      <td>4</td>\n      <td>5</td>\n      <td>2</td>\n      <td>23</td>\n    </tr>\n    <tr>\n      <th>2229</th>\n      <td>US</td>\n      <td>1</td>\n      <td>1</td>\n      <td>1</td>\n      <td>4</td>\n      <td>2</td>\n      <td>1</td>\n      <td>1</td>\n      <td>1</td>\n      <td>10</td>\n      <td>...</td>\n      <td>1</td>\n      <td>1</td>\n      <td>2</td>\n      <td>10</td>\n      <td>10</td>\n      <td>1</td>\n      <td>3</td>\n      <td>6</td>\n      <td>1</td>\n      <td>52</td>\n    </tr>\n    <tr>\n      <th>2230</th>\n      <td>US</td>\n      <td>4</td>\n      <td>4</td>\n      <td>4</td>\n      <td>4</td>\n      <td>4</td>\n      <td>4</td>\n      <td>4</td>\n      <td>4</td>\n      <td>1</td>\n      <td>...</td>\n      <td>3</td>\n      <td>3</td>\n      <td>1</td>\n      <td>1</td>\n      <td>1</td>\n      <td>4</td>\n      <td>5</td>\n      <td>1</td>\n      <td>1</td>\n      <td>40</td>\n    </tr>\n    <tr>\n      <th>2231</th>\n      <td>US</td>\n      <td>1</td>\n      <td>1</td>\n      <td>1</td>\n      <td>1</td>\n      <td>2</td>\n      <td>1</td>\n      <td>1</td>\n      <td>1</td>\n      <td>10</td>\n      <td>...</td>\n      <td>1</td>\n      <td>1</td>\n      <td>9</td>\n      <td>10</td>\n      <td>10</td>\n      <td>1</td>\n      <td>4</td>\n      <td>8</td>\n      <td>1</td>\n      <td>29</td>\n    </tr>\n  </tbody>\n</table>\n<p>6770 rows × 50 columns</p>\n</div>"
     },
     "metadata": {},
     "output_type": "execute_result",
     "execution_count": 2
    }
   ],
   "source": [
    "# Run Python script\n",
    "%run -i tidying.py\n",
    "\n",
    "WVS_dataset"
   ],
   "metadata": {
    "collapsed": false,
    "pycharm": {
     "name": "#%%\n",
     "is_executing": false
    }
   }
  },
  {
   "cell_type": "markdown",
   "source": [
    "# Semiotics"
   ],
   "metadata": {
    "collapsed": false,
    "pycharm": {
     "name": "#%% md\n"
    }
   }
  },
  {
   "cell_type": "markdown",
   "source": [
    "# Explanations"
   ],
   "metadata": {
    "collapsed": false,
    "pycharm": {
     "name": "#%% md\n"
    }
   }
  },
  {
   "cell_type": "markdown",
   "source": [
    "# Next Steps"
   ],
   "metadata": {
    "collapsed": false,
    "pycharm": {
     "name": "#%% md\n"
    }
   }
  }
 ],
 "metadata": {
  "kernelspec": {
   "display_name": "Python 3",
   "language": "python",
   "name": "python3"
  },
  "language_info": {
   "codemirror_mode": {
    "name": "ipython",
    "version": 2
   },
   "file_extension": ".py",
   "mimetype": "text/x-python",
   "name": "python",
   "nbconvert_exporter": "python",
   "pygments_lexer": "ipython2",
   "version": "2.7.6"
  },
  "pycharm": {
   "stem_cell": {
    "cell_type": "raw",
    "source": [],
    "metadata": {
     "collapsed": false
    }
   }
  }
 },
 "nbformat": 4,
 "nbformat_minor": 0
}