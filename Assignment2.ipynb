{
 "cells": [
  {
   "cell_type": "markdown",
   "metadata": {
    "collapsed": true,
    "pycharm": {
     "name": "#%% md\n"
    }
   },
   "source": [
    "# Requirements\n",
    "\n",
    "For Assignment 2, you will perform a short pilot study that identifies a cultural pattern related to your final project.\n",
    "Your submission should be in a Jupyter notebook format and address the following questions.\n",
    "\n",
    "1. (1 Point) Construct a final project research question related to the interpretation of a cultural pattern that \n",
    "interests you (i.e. \"Why is #ThrowbackThursday employed in a different way by Group A than it is by Group B?\").\n",
    "\n",
    "2. (2 Points) What digital data could you use to study this phenomenon and answer your research question? \n",
    "How could you collect this data? Consult the Final Project Assignment Page for several data search tools and feel free\n",
    "to talk with your instructor or TA if you have any further questions about how you might find and collect data related\n",
    "to your research question.\n",
    "\n",
    "3. (3 Points) Download this data on your computer (if you are web-scraping, or have an exceptionally challenging data\n",
    "source to gather from and analyze, you may choose to download only a subset of the data for the purposes of this \n",
    "assignment) and load it into your Python Jupyter notebook. Print out a small sample of your data in your Jupyter \n",
    "notebook (i.e. using the .head() command, if you're using Pandas).\n",
    "\n",
    "4. (6 Points) Using your data, empirically demonstrate in Python that the cultural phenomenon you are studying consists \n",
    "of replicas from a common legisign, with the same interpretants and sign relations. Make at least 1 plot to aid in your\n",
    "demonstration.\n",
    "\n",
    "5. Provide a 300+ word description explaining why your Python code and plot successfully demonstrate that the cultural\n",
    "phenomenon you are studying consists of replicas from a common legisign. (3 Points) What are your next steps beyond \n",
    "this basic identification of a cultural pattern? Do you need to gather any additional information? Do you need to \n",
    "perform any additional analyses in order to successfully answer your research question? How will these additional \n",
    "sources and/or analyses enable you to answer your research question? Provide a 200+ word response to these questions."
   ]
  },
  {
   "cell_type": "markdown",
   "source": [
    "# Research Question\n",
    "\n",
    "Do the Chinese people have a greater tolerance of inequality than the Americans? If so, what factors contribute to this\n",
    "cultural phenomenon?"
   ],
   "metadata": {
    "collapsed": false,
    "pycharm": {
     "name": "#%% md\n",
     "is_executing": true
    }
   }
  },
  {
   "cell_type": "markdown",
   "source": [
    "# Data Source\n",
    "\n",
    "The [Worlds Value Survey](www.worldvaluessurvey.org), which started in 1981, consists of nationally representative \n",
    "surveys conducted in almost 100 countries which contain almost 90 percent of the world’s population, using a common \n",
    "questionnaire. It is the largest non-commercial, cross-national, time series investigation of human beliefs and values \n",
    "ever executed, currently including interviews with almost 400,000 respondents and covering all of the world's major \n",
    "cultural zones.\n",
    "\n",
    "Data used in this project is from WVS Wave 6 (2010-2014). For the purpose of a comparison between China and the United State, \n",
    "I selected Mainland China, Hong Kong, Taiwan and the United States for analysis. Raw data files are stored in this \n",
    "[folder](Data_raw)."
   ],
   "metadata": {
    "collapsed": false,
    "pycharm": {
     "name": "#%% md\n"
    }
   }
  },
  {
   "cell_type": "markdown",
   "source": [
    "# Data"
   ],
   "metadata": {
    "collapsed": false,
    "pycharm": {
     "name": "#%% md\n"
    }
   }
  },
  {
   "cell_type": "code",
   "execution_count": null,
   "outputs": [],
   "source": [
    "# Import libraries\n",
    "%matplotlib inline\n",
    "import numpy as np\n",
    "import pandas as pd\n",
    "import plotly.graph_objects as go\n",
    "import matplotlib.pyplot as plt"
   ],
   "metadata": {
    "collapsed": false,
    "pycharm": {
     "name": "#%%\n"
    }
   }
  },
  {
   "cell_type": "code",
   "execution_count": null,
   "outputs": [],
   "source": [],
   "metadata": {
    "collapsed": false,
    "pycharm": {
     "name": "#%%\n"
    }
   }
  },
  {
   "cell_type": "markdown",
   "source": [
    "# Semiotics"
   ],
   "metadata": {
    "collapsed": false,
    "pycharm": {
     "name": "#%% md\n"
    }
   }
  },
  {
   "cell_type": "markdown",
   "source": [
    "# Explanations"
   ],
   "metadata": {
    "collapsed": false,
    "pycharm": {
     "name": "#%% md\n"
    }
   }
  },
  {
   "cell_type": "markdown",
   "source": [
    "# Next Steps"
   ],
   "metadata": {
    "collapsed": false,
    "pycharm": {
     "name": "#%% md\n"
    }
   }
  }
 ],
 "metadata": {
  "kernelspec": {
   "display_name": "Python 3",
   "language": "python",
   "name": "python3"
  },
  "language_info": {
   "codemirror_mode": {
    "name": "ipython",
    "version": 2
   },
   "file_extension": ".py",
   "mimetype": "text/x-python",
   "name": "python",
   "nbconvert_exporter": "python",
   "pygments_lexer": "ipython2",
   "version": "2.7.6"
  },
  "pycharm": {
   "stem_cell": {
    "cell_type": "raw",
    "source": [],
    "metadata": {
     "collapsed": false
    }
   }
  }
 },
 "nbformat": 4,
 "nbformat_minor": 0
}